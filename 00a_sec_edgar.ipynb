{
 "cells": [
  {
   "cell_type": "markdown",
   "id": "ae4e1397-d15a-4293-9e76-e764d1e372b5",
   "metadata": {},
   "source": [
    "## Crawl SEC Data"
   ]
  },
  {
   "cell_type": "code",
   "execution_count": 1,
   "id": "0c962b47-e7f3-4a75-98a7-65640c992dc5",
   "metadata": {},
   "outputs": [],
   "source": [
    "import os\n",
    "import json\n",
    "import requests\n",
    "import pandas as pd\n",
    "from bs4 import BeautifulSoup\n",
    "from tqdm.auto import tqdm\n",
    "import time"
   ]
  },
  {
   "cell_type": "markdown",
   "id": "164cd36b-2f5e-46e9-b3cd-b935c12b843e",
   "metadata": {},
   "source": [
    "### Get Ticker to CIK mapping"
   ]
  },
  {
   "cell_type": "code",
   "execution_count": 6,
   "id": "c3d4880d-c391-4175-9e16-f3ec209d0e64",
   "metadata": {},
   "outputs": [],
   "source": [
    "from typing import Dict, Optional\n",
    "\n",
    "def dummy_sec_request_headers(user_agent: Optional[str] = None) -> Dict[str, str]:\n",
    "    if user_agent is None:\n",
    "        user_agent = 'Sample Company Name AdminContact@<sample company domain>.com'\n",
    "    return {\n",
    "        'User-Agent': user_agent,\n",
    "        'Accept-Encoding': 'gzip, deflate',\n",
    "    }\n",
    "request_headers = dummy_sec_request_headers(\"Vernicosa Investment Club vernicosa.retrievers@slmail.me\")"
   ]
  },
  {
   "cell_type": "code",
   "execution_count": 10,
   "id": "76abee47-aa7a-49be-82ca-49e1f061ef6d",
   "metadata": {},
   "outputs": [],
   "source": [
    "company_tickers = pd.read_json(\"data/company_tickers.json\")"
   ]
  },
  {
   "cell_type": "code",
   "execution_count": 11,
   "id": "63b902a5-5b70-4f80-bb16-564bdc1eff12",
   "metadata": {},
   "outputs": [],
   "source": [
    "def ticker_to_cik(ticker):\n",
    "    try:\n",
    "        df = company_tickers.loc[ticker]\n",
    "    except KeyError:\n",
    "        return None\n",
    "    \n",
    "    if type(df) != pd.core.series.Series:\n",
    "        return None\n",
    "    else:\n",
    "        return str(df.loc[\"cik_str\"]).zfill(10)"
   ]
  },
  {
   "cell_type": "code",
   "execution_count": 12,
   "id": "fb84413b-dd81-403a-85d8-6513848aec55",
   "metadata": {},
   "outputs": [
    {
     "data": {
      "text/plain": [
       "'0000320193'"
      ]
     },
     "execution_count": 12,
     "metadata": {},
     "output_type": "execute_result"
    }
   ],
   "source": [
    "ticker_to_cik(\"AAPL\")"
   ]
  },
  {
   "cell_type": "markdown",
   "id": "661fca59-599f-45dd-b3ec-b5cf0ff622be",
   "metadata": {},
   "source": [
    "### Get relevant index companies"
   ]
  },
  {
   "cell_type": "code",
   "execution_count": 13,
   "id": "d1d4f434-cee1-4d95-8e3f-d7e7a9c145ab",
   "metadata": {},
   "outputs": [],
   "source": [
    "def clean_ticker(ticker):\n",
    "    return ticker.split(\" \")[0]\n",
    "companies = pd.read_csv(\"data/spx.csv\", sep=\";\")\n",
    "companies.Ticker = companies.Ticker.apply(clean_ticker)\n",
    "companies[\"cik\"] = companies.Ticker.apply(ticker_to_cik)\n",
    "companies.dropna(subset=[\"cik\"], inplace=True)\n",
    "companies = companies.sample(n=100, random_state=1337).copy()"
   ]
  },
  {
   "cell_type": "markdown",
   "id": "eb14ddff-9b55-474d-9907-f688ff60f4fd",
   "metadata": {},
   "source": [
    "### Build request pipeline for 10-K filings"
   ]
  },
  {
   "cell_type": "code",
   "execution_count": 14,
   "id": "5733f9bf-fb1d-4797-98b6-81c039442c13",
   "metadata": {},
   "outputs": [],
   "source": [
    "def get_annual_report_list(cik, request_headers, as_of):\n",
    "    r = requests.get(f\"https://data.sec.gov/submissions/CIK{cik}.json\", headers=request_headers)\n",
    "    company_submissions = r.json()\n",
    "    annual_reports = pd.DataFrame(company_submissions[\"filings\"][\"recent\"])\n",
    "    for filing_subset in company_submissions[\"filings\"][\"files\"]:\n",
    "        r_subset = requests.get(f\"https://data.sec.gov/submissions/{filing_subset['name']}\", headers=request_headers)\n",
    "        filing_subset_json = r_subset.json()\n",
    "        filing_subset_df = pd.DataFrame(filing_subset_json)\n",
    "        annual_reports = pd.concat([annual_reports, filing_subset_df]).copy()\n",
    "    \n",
    "    annual_reports.drop_duplicates(subset=[\"accessionNumber\"], inplace=True)\n",
    "    annual_reports = annual_reports[annual_reports[\"form\"] == \"10-K\"].copy()\n",
    "    annual_reports[\"reportDate\"] = pd.to_datetime(annual_reports[\"reportDate\"])\n",
    "    annual_reports = annual_reports[annual_reports[\"reportDate\"] > as_of]\n",
    "    return annual_reports.accessionNumber.to_list(), annual_reports"
   ]
  },
  {
   "cell_type": "code",
   "execution_count": 15,
   "id": "7ca2e71a-6577-43e7-8da3-2008d350296a",
   "metadata": {},
   "outputs": [],
   "source": [
    "def get_filing_by_acc_nr_cik(acc_nr, cik, request_headers):\n",
    "    time.sleep(0.1)\n",
    "    r = requests.get(f\"https://www.sec.gov/Archives/edgar/data/{cik}/{acc_nr.replace('-', '')}/{acc_nr}.txt\", headers=request_headers)\n",
    "    if not r.ok:\n",
    "        print(r.text)\n",
    "    return r.text"
   ]
  },
  {
   "cell_type": "code",
   "execution_count": 16,
   "id": "d1fdf25c-e253-4adc-9071-4a286f3912bd",
   "metadata": {},
   "outputs": [],
   "source": [
    "def download_all_filings_by_cik(cik, request_headers, path, as_of):\n",
    "    reports, annual_reports = get_annual_report_list(cik, request_headers, as_of)\n",
    "    for report in reports:\n",
    "        with open(os.path.join(path, f\"{report}.html\"), \"w\", encoding='utf-8') as file:\n",
    "            file.write(get_filing_by_acc_nr_cik(report, cik, request_headers))\n",
    "    return reports"
   ]
  },
  {
   "cell_type": "code",
   "execution_count": 17,
   "id": "3b3e953b-3e45-4aff-8a1f-b3a550e61dfd",
   "metadata": {},
   "outputs": [],
   "source": [
    "def get_annual_reports(cik, request_headers, as_of):\n",
    "    reports, annual_reports = get_annual_report_list(cik, request_headers, as_of)\n",
    "    return annual_reports"
   ]
  },
  {
   "cell_type": "code",
   "execution_count": null,
   "id": "2356bd57-8fea-4898-83d1-a341c26cb1e7",
   "metadata": {},
   "outputs": [
    {
     "data": {
      "application/vnd.jupyter.widget-view+json": {
       "model_id": "05400bc5a0b64bc0a999223b01275483",
       "version_major": 2,
       "version_minor": 0
      },
      "text/plain": [
       "  0%|          | 0/100 [00:00<?, ?it/s]"
      ]
     },
     "metadata": {},
     "output_type": "display_data"
    }
   ],
   "source": [
    "acc_nr_store = {}\n",
    "for index, data in tqdm(companies.iterrows(), total=len(companies)):\n",
    "    if data[\"cik\"] in acc_nr_store:\n",
    "        continue\n",
    "    acc_nr_store[data[\"cik\"]] = download_all_filings_by_cik(data[\"cik\"], request_headers, \"filings\", \"2000-01-01\")\n",
    "    json.dump(acc_nr_store, open(\"metastore/acc_nr_store.json\", \"w\"))\n",
    "    time.sleep(1)"
   ]
  },
  {
   "cell_type": "code",
   "execution_count": 25,
   "id": "71f83b10-f676-4555-bbc9-4fc5c00d5f6c",
   "metadata": {},
   "outputs": [
    {
     "data": {
      "application/vnd.jupyter.widget-view+json": {
       "model_id": "c466d4157286414dbd869aafb46fec81",
       "version_major": 2,
       "version_minor": 0
      },
      "text/plain": [
       "  0%|          | 0/100 [00:00<?, ?it/s]"
      ]
     },
     "metadata": {},
     "output_type": "display_data"
    }
   ],
   "source": [
    "# get all annual reports\n",
    "cik_store = {}\n",
    "for index, data in tqdm(companies.iterrows(), total=len(companies)):\n",
    "    if data[\"cik\"] in cik_store:\n",
    "        continue\n",
    "    cik_store[data[\"cik\"]] =  get_annual_reports(data[\"cik\"], request_headers, \"2000-01-01\").reset_index(drop=True).to_json()\n",
    "    json.dump(cik_store, open(\"metastore/cik_store.json\", \"w\"))\n",
    "    time.sleep(1)"
   ]
  },
  {
   "cell_type": "code",
   "execution_count": null,
   "id": "98f71187-9762-4b27-a9ee-cd811ebdd9f7",
   "metadata": {},
   "outputs": [],
   "source": []
  }
 ],
 "metadata": {
  "kernelspec": {
   "display_name": "Python 3 (ipykernel)",
   "language": "python",
   "name": "python3"
  },
  "language_info": {
   "codemirror_mode": {
    "name": "ipython",
    "version": 3
   },
   "file_extension": ".py",
   "mimetype": "text/x-python",
   "name": "python",
   "nbconvert_exporter": "python",
   "pygments_lexer": "ipython3",
   "version": "3.9.7"
  }
 },
 "nbformat": 4,
 "nbformat_minor": 5
}
