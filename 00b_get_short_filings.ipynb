{
 "cells": [
  {
   "cell_type": "code",
   "execution_count": null,
   "id": "3d2c1d24-522f-46e9-b7ef-3d33d22500ef",
   "metadata": {},
   "outputs": [],
   "source": [
    "import json\n",
    "\n",
    "import pandas as pd\n",
    "from nltk.tokenize import word_tokenize\n",
    "from tqdm.auto import tqdm\n",
    "\n",
    "from prep import prep, item_parser\n"
   ]
  },
  {
   "cell_type": "code",
   "execution_count": null,
   "id": "1d5d81cd-2fe0-4a24-a78f-c0db7653bc55",
   "metadata": {},
   "outputs": [],
   "source": [
    "acc_nr_store = json.load(open(\"metastore/acc_nr_store.json\", \"r\"))"
   ]
  },
  {
   "cell_type": "code",
   "execution_count": null,
   "id": "c134037b-3212-4545-97a1-5abdfa8c6e35",
   "metadata": {},
   "outputs": [],
   "source": [
    "filings = []\n",
    "short_filings = []\n",
    "for cik in tqdm(acc_nr_store):\n",
    "    for acc_nr in acc_nr_store[cik]:\n",
    "        if acc_nr in filings:\n",
    "            continue\n",
    "        contents = prep.load_sec_filing(acc_nr, \"metastore/filings\", bs=False)\n",
    "        item_1a_raw, item_7_raw, item_7a_raw = item_parser.get_items(contents)\n",
    "        item_7 = item_7_raw + item_7a_raw\n",
    "        item_7_soup = prep.load_bs(item_7)\n",
    "\n",
    "        item_7_doc = prep.clean_filing(item_7_soup)\n",
    "        tokens = word_tokenize(item_7_doc)\n",
    "        if len(tokens) < 300:\n",
    "            short_filings.append(acc_nr)\n",
    "        filings.append(acc_nr)\n"
   ]
  },
  {
   "cell_type": "code",
   "execution_count": null,
   "id": "e1ecc5ec-0c68-4430-8888-11f498255d8b",
   "metadata": {},
   "outputs": [],
   "source": [
    "json.dump(short_filings, open(\"metastore/short_filings.json\", \"w\"))"
   ]
  },
  {
   "cell_type": "code",
   "execution_count": null,
   "id": "06e4a3f9-c64d-4917-8866-3e755554fc89",
   "metadata": {},
   "outputs": [],
   "source": []
  }
 ],
 "metadata": {
  "kernelspec": {
   "display_name": "Python 3 (ipykernel)",
   "language": "python",
   "name": "python3"
  },
  "language_info": {
   "codemirror_mode": {
    "name": "ipython",
    "version": 3
   },
   "file_extension": ".py",
   "mimetype": "text/x-python",
   "name": "python",
   "nbconvert_exporter": "python",
   "pygments_lexer": "ipython3",
   "version": "3.9.7"
  }
 },
 "nbformat": 4,
 "nbformat_minor": 5
}
