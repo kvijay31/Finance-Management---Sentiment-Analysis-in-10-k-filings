{
 "cells": [
  {
   "cell_type": "code",
   "execution_count": 1,
   "id": "f6f880e0-9419-469f-b20b-b36660576491",
   "metadata": {},
   "outputs": [],
   "source": [
    "import json\n",
    "\n",
    "import pandas as pd\n",
    "from transformers import AutoTokenizer, AutoModelForSequenceClassification\n",
    "import torch\n",
    "from tqdm.auto import tqdm\n",
    "\n",
    "from prep import prep, item_parser\n"
   ]
  },
  {
   "cell_type": "code",
   "execution_count": 2,
   "id": "57fb3e8d-ef0f-4e3d-8fc3-29e279c1e943",
   "metadata": {},
   "outputs": [],
   "source": [
    "tokenizer = AutoTokenizer.from_pretrained(\"ProsusAI/finbert\")\n",
    "model = AutoModelForSequenceClassification.from_pretrained(\"ProsusAI/finbert\")\n",
    "acc_nr_store = json.load(open(\"metastore/acc_nr_store.json\", \"r\"))"
   ]
  },
  {
   "cell_type": "code",
   "execution_count": 3,
   "id": "a40cc747-063a-4bd1-9aef-557771d415a4",
   "metadata": {},
   "outputs": [],
   "source": [
    "class TenKDocument(object):\n",
    "    def __init__(self, document, max_len=512):\n",
    "        self.document = document\n",
    "        self.max_len = max_len\n",
    "        \n",
    "        self.sentiment_store = []\n",
    "    \n",
    "    def __iter__(self):\n",
    "        for i in range(0, len(self.document), self.max_len):\n",
    "            yield self.build_partial(i)\n",
    "            \n",
    "    def __len__(self):\n",
    "        return len(self.document)\n",
    "    \n",
    "    def build_partial(self, start):\n",
    "        return self.document[start:start + self.max_len]\n",
    "    \n",
    "    def add_segment_sentiment(self, sentiment):\n",
    "        self.sentiment_store.append(list(sentiment.detach().numpy()[0]))\n",
    "        \n",
    "    def get_document_sentiment(self):\n",
    "        df = pd.DataFrame(self.sentiment_store)\n",
    "        return df.mean().to_list()"
   ]
  },
  {
   "cell_type": "code",
   "execution_count": 4,
   "id": "42d68370-103d-49bd-851b-9f3e638783c3",
   "metadata": {},
   "outputs": [],
   "source": [
    "def predict_sentiment(text, tokenizer, model):\n",
    "    inputs = tokenizer(text, return_tensors=\"pt\")\n",
    "    labels = torch.tensor([[1, 1, 1]], dtype=torch.float)\n",
    "    outputs = model(**inputs, labels=labels)\n",
    "    logits = outputs.logits\n",
    "    return torch.nn.functional.softmax(logits, dim=1)"
   ]
  },
  {
   "cell_type": "code",
   "execution_count": null,
   "id": "742fdc2d-5592-41ec-bdb2-5117f7a1ecc2",
   "metadata": {},
   "outputs": [
    {
     "data": {
      "application/vnd.jupyter.widget-view+json": {
       "model_id": "b4e97f4db2d44a7ebb1fec4911d828c8",
       "version_major": 2,
       "version_minor": 0
      },
      "text/plain": [
       "  0%|          | 0/100 [00:00<?, ?it/s]"
      ]
     },
     "metadata": {},
     "output_type": "display_data"
    }
   ],
   "source": [
    "sentiment_store = {}\n",
    "for cik in tqdm(acc_nr_store):\n",
    "    if cik not in sentiment_store:\n",
    "        sentiment_store[cik] = {}\n",
    "    for acc_nr in acc_nr_store[cik]:\n",
    "        if acc_nr in sentiment_store[cik]:\n",
    "            continue\n",
    "        contents = prep.load_sec_filing(acc_nr, \"filings\", bs=False)\n",
    "        item_1a_raw, item_7_raw, item_7a_raw = item_parser.get_items(contents)\n",
    "        item_7 = item_7_raw + item_7a_raw\n",
    "        item_7_soup = prep.load_bs(item_7)\n",
    "\n",
    "        item_7_doc = prep.clean_filing(item_7_soup)\n",
    "        \n",
    "        ten_k = TenKDocument(item_7_doc)\n",
    "        for segment in ten_k:\n",
    "            try:\n",
    "                sentiment_prediction = predict_sentiment(segment, tokenizer, model)\n",
    "            except RuntimeError: \n",
    "                print(cik, acc_nr)\n",
    "                sentiment_prediction = torch.tensor([[]], dtype=torch.float)\n",
    "            ten_k.add_segment_sentiment(sentiment_prediction)\n",
    "            \n",
    "        sentiment_store[cik][acc_nr] = pd.DataFrame(ten_k.sentiment_store).values.tolist()\n",
    "        json.dump(sentiment_store, open(\"metastore/sentiment_store_item7.json\", \"w\"))"
   ]
  }
 ],
 "metadata": {
  "kernelspec": {
   "display_name": "Python 3 (ipykernel)",
   "language": "python",
   "name": "python3"
  },
  "language_info": {
   "codemirror_mode": {
    "name": "ipython",
    "version": 3
   },
   "file_extension": ".py",
   "mimetype": "text/x-python",
   "name": "python",
   "nbconvert_exporter": "python",
   "pygments_lexer": "ipython3",
   "version": "3.9.7"
  }
 },
 "nbformat": 4,
 "nbformat_minor": 5
}
