{
 "cells": [
  {
   "cell_type": "code",
   "execution_count": null,
   "id": "584a41b1-41e4-4304-bf96-3133bdd365c4",
   "metadata": {},
   "outputs": [],
   "source": [
    "import os\n",
    "import json\n",
    "import requests\n",
    "import pandas as pd\n",
    "from bs4 import BeautifulSoup\n",
    "from tqdm.auto import tqdm\n",
    "import time\n",
    "import yfinance as yf\n",
    "from scipy import stats\n"
   ]
  },
  {
   "cell_type": "code",
   "execution_count": null,
   "id": "df177aa8-8ee9-403d-9946-d457a2433e44",
   "metadata": {},
   "outputs": [],
   "source": [
    "fama_french = pd.read_csv(\"data/F-F_Research_Data_Factors_daily.CSV\", sep=\";\")\n",
    "fama_french[\"date\"] = pd.to_datetime(fama_french[\"date\"], format=\"%Y%m%d\")\n",
    "fama_french.set_index(\"date\", inplace=True)"
   ]
  },
  {
   "cell_type": "code",
   "execution_count": null,
   "id": "2e62d6b9-b638-41fc-835e-3adad17af501",
   "metadata": {},
   "outputs": [],
   "source": [
    "cik_store = json.load(open(\"metastore/cik_store.json\", \"r\"))\n",
    "company_tickers = pd.read_json(\"data/company_tickers.json\")"
   ]
  },
  {
   "cell_type": "code",
   "execution_count": null,
   "id": "22a646ec-3e06-4fec-8942-8e8e1187a7e6",
   "metadata": {},
   "outputs": [],
   "source": [
    "def ticker_to_cik(ticker):\n",
    "    try:\n",
    "        df = company_tickers.loc[ticker]\n",
    "    except KeyError:\n",
    "        return None\n",
    "    \n",
    "    if type(df) != pd.core.series.Series:\n",
    "        return None\n",
    "    else:\n",
    "        return str(df.loc[\"cik_str\"]).zfill(10)"
   ]
  },
  {
   "cell_type": "code",
   "execution_count": null,
   "id": "e942ac83-07dd-407f-a2a9-002ac6440313",
   "metadata": {},
   "outputs": [],
   "source": [
    "def clean_ticker(ticker):\n",
    "    return ticker.split(\" \")[0]\n",
    "companies = pd.read_csv(\"data/spx.csv\", sep=\";\")\n",
    "companies.Ticker = companies.Ticker.apply(clean_ticker)\n",
    "companies[\"cik\"] = companies.Ticker.apply(ticker_to_cik)\n",
    "companies.dropna(subset=[\"cik\"], inplace=True)\n",
    "companies = companies.sample(n=100, random_state=1337).set_index(\"cik\").copy()"
   ]
  },
  {
   "cell_type": "code",
   "execution_count": null,
   "id": "25814645-dd39-4873-a0ba-0a8804a9b832",
   "metadata": {},
   "outputs": [],
   "source": [
    "def get_bhr(quotes, filing_date, days):\n",
    "    df = quotes[filing_date:].copy()\n",
    "    close = df.iloc[:days + 1][\"Open\"]\n",
    "    return (close.iloc[-1] - close.iloc[0]) / close.iloc[0]"
   ]
  },
  {
   "cell_type": "code",
   "execution_count": null,
   "id": "a194ca91-45bb-4e7c-b7a4-879ffce32c3c",
   "metadata": {},
   "outputs": [],
   "source": [
    "def get_fama_french(date, days):\n",
    "    if days < 0:\n",
    "        return fama_french.iloc[:fama_french.index.get_indexer([date], method=\"nearest\")[0]].iloc[days-1:]\n",
    "    return fama_french.iloc[fama_french.index.get_indexer([date], method=\"nearest\")[0]:].iloc[:days + 1]\n",
    "\n",
    "def get_series_data(quotes, date, days):\n",
    "    if days < 0:\n",
    "        stock_returns = quotes.pct_change().dropna(subset=[\"Open\"])[:date].iloc[days-1:].copy()\n",
    "        stock_df = quotes[:date].copy()\n",
    "        stock_short = stock_df.iloc[days-1:]\n",
    "    else:\n",
    "        stock_returns = quotes.pct_change().dropna(subset=[\"Open\"])[date:].iloc[:days+1].copy()\n",
    "        stock_df = quotes[date:].copy()\n",
    "        stock_short = stock_df.iloc[:days + 1]\n",
    "    stock_return = (stock_short[\"Open\"].iloc[-1] - stock_short[\"Open\"].iloc[0]) / stock_short[\"Open\"].iloc[0]\n",
    "    return stock_short, stock_return, stock_returns\n",
    "\n",
    "def calc_beta(stock, market):\n",
    "    cov_df = pd.DataFrame(stock[\"Open\"].rename(\"Stock\")).join(market[\"Open\"].rename(\"Market\")).cov()  \n",
    "    cov = cov_df[\"Stock\"][\"Market\"]\n",
    "    var = cov_df[\"Market\"][\"Market\"]\n",
    "    return cov / var\n",
    "\n",
    "def jensens_alpha(quotes, market, filing_date, days):\n",
    "    stock_df, rs, stock_returns = get_series_data(quotes, filing_date, days)\n",
    "    market_df, rm, market_returns = get_series_data(market, filing_date, days)\n",
    "    fama_french_params = get_fama_french(filing_date, days)\n",
    "    if days < 0:\n",
    "        rf = ((stats.gmean((fama_french_params[\"RF\"] / 100) + 1)) ** (days*-1)) - 1\n",
    "    else:\n",
    "        rf = ((stats.gmean((fama_french_params[\"RF\"] / 100) + 1)) ** days) - 1\n",
    "    beta = calc_beta(stock_returns, market_returns)\n",
    "    jensens_alpha_value = rs - (rf + beta * (rm - rf))\n",
    "    return jensens_alpha_value\n",
    "\n",
    "def get_volume_momentum(quotes, filing_date, lookback=252, tailway=6):\n",
    "    volume_df = quotes.loc[:filing_date].iloc[-lookback:-1]\n",
    "    mean_volume = volume_df.iloc[:-tailway][\"Volume\"].mean()\n",
    "    std_volume = volume_df.iloc[:-tailway][\"Volume\"].std()\n",
    "    \n",
    "    pre_filing_volume = volume_df.iloc[-tailway:][\"Volume\"].mean()\n",
    "    return pre_filing_volume / mean_volume, mean_volume, std_volume\n",
    "\n",
    "def get_post_filing_mean_volume(quotes, filing_date, days=4):\n",
    "    df = quotes[filing_date:].copy()\n",
    "    return df.iloc[:days + 1][\"Volume\"].mean()"
   ]
  },
  {
   "cell_type": "code",
   "execution_count": null,
   "id": "6f457303-324d-4819-b980-13922836cae8",
   "metadata": {},
   "outputs": [],
   "source": [
    "cik_store_priced = {}\n",
    "generic_storage = []\n",
    "skipped_acc_nr = []\n",
    "sp500 = yf.Ticker(\"^GSPC\").history(period=\"max\")\n",
    "for cik in tqdm(cik_store):\n",
    "    ticker = companies.loc[cik, \"Ticker\"]\n",
    "    quotes = yf.Ticker(ticker).history(period=\"max\")\n",
    "    filing_df = pd.read_json(cik_store[cik])\n",
    "    for index, filing in filing_df.iterrows():\n",
    "        if min(quotes.index) > pd.to_datetime(filing[\"filingDate\"]):\n",
    "            skipped_acc_nr.append(filing[\"accessionNumber\"])\n",
    "            continue\n",
    "        filing_df.loc[index, \"stockBHR_4\"] = get_bhr(quotes, filing[\"filingDate\"], 4)\n",
    "        filing_df.loc[index, \"indexBHR_4\"] = get_bhr(sp500, filing[\"filingDate\"], 4)\n",
    "        filing_df.loc[index, \"stockBHR_10\"] = get_bhr(quotes, filing[\"filingDate\"], 10)\n",
    "        filing_df.loc[index, \"indexBHR_10\"] = get_bhr(sp500, filing[\"filingDate\"], 10)\n",
    "        filing_df.loc[index, \"stockBHR_20\"] = get_bhr(quotes, filing[\"filingDate\"], 20)\n",
    "        filing_df.loc[index, \"indexBHR_20\"] = get_bhr(sp500, filing[\"filingDate\"], 20)\n",
    "        \n",
    "        filing_df.loc[index, \"jensens_alpha_value_1\"] = jensens_alpha(quotes, sp500, filing[\"filingDate\"], 1)\n",
    "        filing_df.loc[index, \"jensens_alpha_value_4\"] = jensens_alpha(quotes, sp500, filing[\"filingDate\"], 4)\n",
    "        filing_df.loc[index, \"jensens_alpha_value_10\"] = jensens_alpha(quotes, sp500, filing[\"filingDate\"], 10)\n",
    "        filing_df.loc[index, \"jensens_alpha_value_20\"] = jensens_alpha(quotes, sp500, filing[\"filingDate\"], 30)\n",
    "        \n",
    "        filing_df.loc[index, \"pre_filing_alpha_2\"] = jensens_alpha(quotes, sp500, filing[\"filingDate\"], -2)\n",
    "        filing_df.loc[index, \"pre_filing_alpha_6\"] = jensens_alpha(quotes, sp500, filing[\"filingDate\"], -6)\n",
    "        filing_df.loc[index, \"pre_filing_alpha_20\"] = jensens_alpha(quotes, sp500, filing[\"filingDate\"], -20)\n",
    "        \n",
    "        volume_momentum, pre_filing_mean_volume, pre_filing_std_volume = get_volume_momentum(quotes, filing[\"filingDate\"])\n",
    "        post_filing_mean_volume = get_post_filing_mean_volume(quotes, filing[\"filingDate\"])\n",
    "        filing_df.loc[index, \"volume_momentum\"] = volume_momentum\n",
    "        filing_df.loc[index, \"abnormal_volume\"] = (post_filing_mean_volume - pre_filing_mean_volume) / pre_filing_std_volume\n",
    "        \n",
    "        \n",
    "    filing_df[\"stockBHAR_4\"] = filing_df[\"stockBHR_4\"] - filing_df[\"indexBHR_4\"]\n",
    "    filing_df[\"stockBHAR_10\"] = filing_df[\"stockBHR_10\"] - filing_df[\"indexBHR_10\"]\n",
    "    filing_df[\"stockBHAR_20\"] = filing_df[\"stockBHR_20\"] - filing_df[\"indexBHR_20\"]\n",
    "    \n",
    "    \n",
    "    cik_store_priced[cik] = filing_df.to_json()\n",
    "    json.dump(cik_store_priced, open(\"metastore/cik_store_priced.json\", \"w\"))\n",
    "    json.dump(skipped_acc_nr, open(\"metastore/skipped_acc_nr.json\", \"w\"))"
   ]
  }
 ],
 "metadata": {
  "kernelspec": {
   "display_name": "Python 3 (ipykernel)",
   "language": "python",
   "name": "python3"
  },
  "language_info": {
   "codemirror_mode": {
    "name": "ipython",
    "version": 3
   },
   "file_extension": ".py",
   "mimetype": "text/x-python",
   "name": "python",
   "nbconvert_exporter": "python",
   "pygments_lexer": "ipython3",
   "version": "3.9.7"
  }
 },
 "nbformat": 4,
 "nbformat_minor": 5
}
