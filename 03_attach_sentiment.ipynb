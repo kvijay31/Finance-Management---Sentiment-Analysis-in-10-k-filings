{
 "cells": [
  {
   "cell_type": "code",
   "execution_count": null,
   "id": "68d92383-9dd9-4b3c-8553-2984ddaf55a8",
   "metadata": {},
   "outputs": [],
   "source": [
    "import os\n",
    "import json\n",
    "import requests\n",
    "import pandas as pd\n",
    "from bs4 import BeautifulSoup\n",
    "from tqdm.auto import tqdm\n",
    "import time\n",
    "import yfinance as yf"
   ]
  },
  {
   "cell_type": "code",
   "execution_count": null,
   "id": "1381d8be-35e6-404a-ba68-6f6e3849a17f",
   "metadata": {},
   "outputs": [],
   "source": [
    "cik_store_priced = json.load(open(\"metastore/cik_store_priced.json\", \"r\"))\n",
    "company_tickers = pd.read_json(\"data/company_tickers.json\")"
   ]
  },
  {
   "cell_type": "code",
   "execution_count": null,
   "id": "dc0f7ea2-3617-4a2e-909d-9c5ce4eab7a0",
   "metadata": {},
   "outputs": [],
   "source": [
    "def ticker_to_cik(ticker):\n",
    "    try:\n",
    "        df = company_tickers.loc[ticker]\n",
    "    except KeyError:\n",
    "        return None\n",
    "    \n",
    "    if type(df) != pd.core.series.Series:\n",
    "        return None\n",
    "    else:\n",
    "        return str(df.loc[\"cik_str\"]).zfill(10)"
   ]
  },
  {
   "cell_type": "code",
   "execution_count": null,
   "id": "96cb5963-1411-4ea5-b174-fcfb1b012f5d",
   "metadata": {},
   "outputs": [],
   "source": [
    "def clean_ticker(ticker):\n",
    "    return ticker.split(\" \")[0]\n",
    "companies = pd.read_csv(\"spx.csv\", sep=\";\")\n",
    "companies.Ticker = companies.Ticker.apply(clean_ticker)\n",
    "companies[\"cik\"] = companies.Ticker.apply(ticker_to_cik)\n",
    "companies.dropna(subset=[\"cik\"], inplace=True)\n",
    "companies = companies.sample(n=100, random_state=1337).set_index(\"cik\").copy()"
   ]
  },
  {
   "cell_type": "code",
   "execution_count": null,
   "id": "7cae91cd-c707-4130-b8fe-1ead82340eb1",
   "metadata": {},
   "outputs": [],
   "source": [
    "sentiment_store = json.load(open(\"metastore/sentiment_store_item7.json\", \"r\"))"
   ]
  },
  {
   "cell_type": "code",
   "execution_count": null,
   "id": "444e755a-16dd-4c26-b8a8-42517984385d",
   "metadata": {},
   "outputs": [],
   "source": [
    "mean_sentiment_store = {}\n",
    "for cik in tqdm(sentiment_store):\n",
    "    mean_sentiment_store[cik] = {}\n",
    "    cik_collection = sentiment_store[cik]\n",
    "    for acc_nr in cik_collection:\n",
    "        mean_sentiment = pd.DataFrame(cik_collection[acc_nr], columns=[\"positive\", \"negative\", \"neutral\"]).mean()\n",
    "        sentiment = mean_sentiment.iloc[0] - mean_sentiment.iloc[1]\n",
    "        mean_sentiment_store[cik][acc_nr] = mean_sentiment.to_dict()\n",
    "    json.dump(mean_sentiment_store, open(\"metastore/mean_sentiment_store_item7.json\", \"w\"))"
   ]
  }
 ],
 "metadata": {
  "kernelspec": {
   "display_name": "Python 3 (ipykernel)",
   "language": "python",
   "name": "python3"
  },
  "language_info": {
   "codemirror_mode": {
    "name": "ipython",
    "version": 3
   },
   "file_extension": ".py",
   "mimetype": "text/x-python",
   "name": "python",
   "nbconvert_exporter": "python",
   "pygments_lexer": "ipython3",
   "version": "3.9.7"
  }
 },
 "nbformat": 4,
 "nbformat_minor": 5
}
